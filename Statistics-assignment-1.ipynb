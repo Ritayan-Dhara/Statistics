{
 "cells": [
  {
   "cell_type": "code",
   "execution_count": 2,
   "metadata": {},
   "outputs": [],
   "source": [
    "import pandas as pd\n",
    "import numpy as np\n",
    "import matplotlib.pyplot as plt\n",
    "import seaborn as sns\n",
    "import math"
   ]
  },
  {
   "cell_type": "code",
   "execution_count": 3,
   "metadata": {
    "colab": {},
    "colab_type": "code",
    "id": "fwKwbkuXZtoO"
   },
   "outputs": [],
   "source": [
    "# Write your code in jupyter notebook and upload it to github and share the link for submission"
   ]
  },
  {
   "cell_type": "markdown",
   "metadata": {
    "colab_type": "text",
    "id": "vre5sNOcZ42y"
   },
   "source": [
    "**Question 1.** \n",
    "\n",
    "You have to create a function that receives a list of numbers like [23,14,13,56,78,98,12] and returns it's Interquartile range(IQR)\n",
    "\n",
    "Note: You have to code the logic from scratch"
   ]
  },
  {
   "cell_type": "code",
   "execution_count": 4,
   "metadata": {},
   "outputs": [],
   "source": [
    "def int_quart_range(l):\n",
    "    \n",
    "    l.sort()\n",
    "    p1=0.25*(len(l)+1)\n",
    "    Q1=( l[math.floor(p1)-1] + l[math.ceil(p1)-1] )/2  \n",
    "    \n",
    "    p2=0.75*(len(l)+1)\n",
    "    Q2=( l[math.floor(p2)-1] + l[math.ceil(p2)-1] )/2\n",
    "    return (Q2-Q1)"
   ]
  },
  {
   "cell_type": "code",
   "execution_count": 5,
   "metadata": {},
   "outputs": [
    {
     "data": {
      "text/plain": [
       "140.0"
      ]
     },
     "execution_count": 5,
     "metadata": {},
     "output_type": "execute_result"
    }
   ],
   "source": [
    "l=[21,53,3,4,7,2,234,422,4]\n",
    "int_quart_range(l)"
   ]
  },
  {
   "cell_type": "code",
   "execution_count": 6,
   "metadata": {},
   "outputs": [
    {
     "data": {
      "text/plain": [
       "55.5"
      ]
     },
     "execution_count": 6,
     "metadata": {},
     "output_type": "execute_result"
    }
   ],
   "source": [
    "l=[3,53,757,2,29,5,3,2,63,7]\n",
    "int_quart_range(l)"
   ]
  },
  {
   "cell_type": "code",
   "execution_count": 7,
   "metadata": {},
   "outputs": [
    {
     "data": {
      "text/plain": [
       "4.0"
      ]
     },
     "execution_count": 7,
     "metadata": {},
     "output_type": "execute_result"
    }
   ],
   "source": [
    "l=[1,2,3,4,5,6,7,8]\n",
    "int_quart_range(l)"
   ]
  },
  {
   "cell_type": "code",
   "execution_count": 8,
   "metadata": {},
   "outputs": [
    {
     "data": {
      "text/plain": [
       "24.0"
      ]
     },
     "execution_count": 8,
     "metadata": {},
     "output_type": "execute_result"
    }
   ],
   "source": [
    "l=[15,34,7,12,18,9,1,42,56,28,13,24,35]\n",
    "int_quart_range(l)"
   ]
  },
  {
   "cell_type": "code",
   "execution_count": null,
   "metadata": {},
   "outputs": [],
   "source": []
  },
  {
   "cell_type": "markdown",
   "metadata": {
    "colab_type": "text",
    "id": "zhGgTofubucf"
   },
   "source": [
    "**Question 2:**\n",
    "\n",
    " Plot a histogram for total team scores for all IPL games.\n",
    "\n",
    "Note: Per match 2 teams will play hence total number scores would be = no. of matches * 2"
   ]
  },
  {
   "cell_type": "code",
   "execution_count": 11,
   "metadata": {},
   "outputs": [],
   "source": []
  },
  {
   "cell_type": "code",
   "execution_count": 32,
   "metadata": {},
   "outputs": [],
   "source": [
    "match=pd.read_csv(\"matches.csv\")\n",
    "delivery=pd.read_csv(\"deliveries.csv\")"
   ]
  },
  {
   "cell_type": "code",
   "execution_count": 33,
   "metadata": {},
   "outputs": [],
   "source": [
    "mega=match.merge(delivery,left_on='id',right_on='match_id')"
   ]
  },
  {
   "cell_type": "code",
   "execution_count": 36,
   "metadata": {},
   "outputs": [
    {
     "data": {
      "image/png": "[encoded data removed]",
      "text/plain": [
       "<Figure size 432x288 with 1 Axes>"
      ]
     },
     "metadata": {
      "needs_background": "light"
     },
     "output_type": "display_data"
    }
   ],
   "source": [
    "score=delivery.groupby(['match_id','inning']).sum()['total_runs']\n",
    "\n",
    "plt.hist(score.values, bins = 50,color='red',edgecolor='k')\n",
    "plt.title('Total Team score for all IPL games')\n",
    "plt.show()"
   ]
  },
  {
   "cell_type": "code",
   "execution_count": null,
   "metadata": {},
   "outputs": [],
   "source": []
  },
  {
   "cell_type": "markdown",
   "metadata": {
    "colab_type": "text",
    "id": "LraNGEw4cCSI"
   },
   "source": [
    "**Question 3.**\n",
    "\n",
    " Find the skewness of bowler economy data where the bowler has bowled a minimum of 300 balls.\n",
    "\n",
    "Note : if you don't know about economy read this https://en.wikipedia.org/wiki/Economy_rate_(cricket)"
   ]
  },
  {
   "cell_type": "code",
   "execution_count": 21,
   "metadata": {},
   "outputs": [
    {
     "data": {
      "image/png": "[encoded data removed]",
      "text/plain": [
       "<Figure size 432x288 with 1 Axes>"
      ]
     },
     "metadata": {
      "needs_background": "light"
     },
     "output_type": "display_data"
    }
   ],
   "source": [
    "bowlers_balls=delivery.groupby('bowler').count()['ball']\n",
    "bowlers_balls=bowlers_balls[bowlers_balls>300]\n",
    "over_bowled=bowlers_balls/6\n",
    "\n",
    "bowlers_runs=delivery.groupby('bowler').sum()['batsman_runs']\n",
    "economy_rate=bowlers_runs/over_bowled\n",
    "economy_rate.dropna(inplace=True)\n",
    "economy_rate.skew()\n",
    "sns.kdeplot(economy_rate)\n",
    "plt.title('The skewness of bowler economy rate')\n",
    "plt.show()"
   ]
  },
  {
   "cell_type": "code",
   "execution_count": 22,
   "metadata": {},
   "outputs": [],
   "source": [
    "#positive skewness"
   ]
  },
  {
   "cell_type": "code",
   "execution_count": null,
   "metadata": {},
   "outputs": [],
   "source": []
  },
  {
   "cell_type": "markdown",
   "metadata": {
    "colab_type": "text",
    "id": "rPh3aUBSdvjW"
   },
   "source": [
    "**Question 4:**\n",
    "\n",
    "Give three examples of negatively skewed data and 3 examples of positively skewed data"
   ]
  },
  {
   "cell_type": "code",
   "execution_count": 0,
   "metadata": {
    "colab": {},
    "colab_type": "code",
    "id": "nggmjDQDaMKs"
   },
   "outputs": [],
   "source": []
  }
 ],
 "metadata": {
  "colab": {
   "authorship_tag": "ABX9TyM50CYqjICTUulR/W9kUpT6",
   "name": "Statistics-assignment-1.ipynb",
   "provenance": []
  },
  "kernelspec": {
   "display_name": "Python 3",
   "language": "python",
   "name": "python3"
  },
  "language_info": {
   "codemirror_mode": {
    "name": "ipython",
    "version": 3
   },
   "file_extension": ".py",
   "mimetype": "text/x-python",
   "name": "python",
   "nbconvert_exporter": "python",
   "pygments_lexer": "ipython3",
   "version": "3.7.4"
  }
 },
 "nbformat": 4,
 "nbformat_minor": 1
}
